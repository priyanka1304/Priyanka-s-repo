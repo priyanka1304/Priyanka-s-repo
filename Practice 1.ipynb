{
 "cells": [
  {
   "cell_type": "code",
   "execution_count": 2,
   "id": "4ec251ba",
   "metadata": {},
   "outputs": [
    {
     "name": "stdout",
     "output_type": "stream",
     "text": [
      "Priyanka\n"
     ]
    }
   ],
   "source": [
    "x = \"Priyanka\"\n",
    "print (x)"
   ]
  },
  {
   "cell_type": "code",
   "execution_count": 3,
   "id": "e34b2bcf",
   "metadata": {},
   "outputs": [
    {
     "name": "stdout",
     "output_type": "stream",
     "text": [
      "single line comment\n"
     ]
    }
   ],
   "source": [
    "# single line comment\n",
    "print(\"single line comment\")"
   ]
  },
  {
   "cell_type": "code",
   "execution_count": 4,
   "id": "b5cae958",
   "metadata": {},
   "outputs": [
    {
     "name": "stdout",
     "output_type": "stream",
     "text": [
      "Mutltiple line comment\n"
     ]
    }
   ],
   "source": [
    "''' Multiple line comment'''\n",
    "print(\"Mutltiple line comment\")\n",
    "\n",
    "\n"
   ]
  },
  {
   "cell_type": "code",
   "execution_count": 14,
   "id": "6e2f6704",
   "metadata": {},
   "outputs": [
    {
     "name": "stdout",
     "output_type": "stream",
     "text": [
      "3\n",
      "<class 'int'>\n",
      "<class 'float'>\n"
     ]
    },
    {
     "data": {
      "text/plain": [
       "int"
      ]
     },
     "execution_count": 14,
     "metadata": {},
     "output_type": "execute_result"
    }
   ],
   "source": [
    "a = 1\n",
    "b = 2\n",
    "c = 3.6\n",
    "print (a+b)\n",
    "print(type(a))\n",
    "print(type(c))\n",
    "type(a)"
   ]
  },
  {
   "cell_type": "code",
   "execution_count": 13,
   "id": "901a129a",
   "metadata": {},
   "outputs": [
    {
     "name": "stdout",
     "output_type": "stream",
     "text": [
      "12\n",
      "2\n",
      "<class 'str'>\n",
      "<class 'bool'>\n",
      "priyapriyapriya\n"
     ]
    }
   ],
   "source": [
    "a = '1'\n",
    "b = '2'\n",
    "c = True\n",
    "d = False\n",
    "e = \"priya\"*3\n",
    "print(a+b)\n",
    "print(int(a)+1)\n",
    "print(type(b))\n",
    "print(type(c))\n",
    "print(e)"
   ]
  },
  {
   "cell_type": "code",
   "execution_count": 15,
   "id": "9476afe5",
   "metadata": {},
   "outputs": [
    {
     "name": "stdout",
     "output_type": "stream",
     "text": [
      "1005 1014 1015 "
     ]
    }
   ],
   "source": [
    "# Python3 implementation of the approach \n",
    "DIGITS = 4; MIN = 1000; MAX = 9999; \n",
    "\n",
    "# Function to return the minimum element \n",
    "# from the range [prev, MAX] such that \n",
    "# it differs in at most 1 digit with cur \n",
    "def getBest(prev, cur) : \n",
    "\n",
    "\t# To start with the value \n",
    "\t# we have achieved in the last step \n",
    "\tmaximum = max(MIN, prev); \n",
    "\n",
    "\tfor i in range(maximum, MAX + 1) : \n",
    "\t\tcnt = 0; \n",
    "\n",
    "\t\t# Store the value with which the \n",
    "\t\t# current will be compared \n",
    "\t\ta = i; \n",
    "\n",
    "\t\t# Current value \n",
    "\t\tb = cur; \n",
    "\n",
    "\t\t# There are at most 4 digits \n",
    "\t\tfor k in range(DIGITS) : \n",
    "\n",
    "\t\t\t# If the current digit differs \n",
    "\t\t\t# in both the numbers \n",
    "\t\t\tif (a % 10 != b % 10) : \n",
    "\t\t\t\tcnt += 1; \n",
    "\n",
    "\t\t\t# Eliminate last digits in \n",
    "\t\t\t# both the numbers \n",
    "\t\t\ta //= 10; \n",
    "\t\t\tb //= 10; \n",
    "\n",
    "\t\t# If the number of different \n",
    "\t\t# digits is at most 1 \n",
    "\t\tif (cnt <= 1) : \n",
    "\t\t\treturn i; \n",
    "\n",
    "\t# If we can't find any number for which \n",
    "\t# the number of change is less than or \n",
    "\t# equal to 1 then return -1 \n",
    "\treturn -1; \n",
    "\n",
    "# Function to get the non-decreasing list \n",
    "def getList(arr, n) : \n",
    "\n",
    "\t# Creating a vector for the updated list \n",
    "\tmyList = []; \n",
    "\t\n",
    "\t# Let's assume that it is possible to \n",
    "\t# make the list non-decreasing \n",
    "\tpossible = True; \n",
    "\n",
    "\tmyList.append(0); \n",
    "\n",
    "\tfor i in range(n) : \n",
    "\n",
    "\t\t# Element of the original array \n",
    "\t\tcur = arr[i]; \n",
    "\n",
    "\t\tmyList.append(getBest(myList[-1], cur)); \n",
    "\n",
    "\t\t# Can't make the list non-decreasing \n",
    "\t\tif (myList[-1] == -1) : \n",
    "\t\t\tpossible = False; \n",
    "\t\t\tbreak; \n",
    "\n",
    "\t# If possible then print the list \n",
    "\tif (possible) : \n",
    "\t\tfor i in range(1, len(myList)) : \n",
    "\t\t\tprint(myList[i], end = \" \"); \n",
    "\telse : \n",
    "\t\tprint(\"-1\"); \n",
    "\n",
    "# Driver code \n",
    "if __name__ == \"__main__\" : \n",
    "\n",
    "\tarr = [ 1095, 1094, 1095 ]; \n",
    "\tn = len(arr); \n",
    "\n",
    "\tgetList(arr, n); \n"
   ]
  },
  {
   "cell_type": "code",
   "execution_count": 16,
   "id": "781f3985",
   "metadata": {},
   "outputs": [
    {
     "data": {
      "text/plain": [
       "[1, 2, 3, 4]"
      ]
     },
     "execution_count": 16,
     "metadata": {},
     "output_type": "execute_result"
    }
   ],
   "source": [
    "[1,2]+[3,4]\n"
   ]
  },
  {
   "cell_type": "code",
   "execution_count": 17,
   "id": "aca20cec",
   "metadata": {},
   "outputs": [
    {
     "name": "stdout",
     "output_type": "stream",
     "text": [
      "['000', '001', '010', '011', '100', '101', '110', '111']\n"
     ]
    }
   ],
   "source": [
    "#Generating binary bits\n",
    "def append_bits(x, L):\n",
    "    return [x + element for element in    L]\n",
    "\n",
    "def generate_bit(n):\n",
    "    if n == 0: return []\n",
    "    if n == 1: return [\"0\", \"1\"]\n",
    "    else:\n",
    "        return (append_bits(\"0\", generate_bit(n - 1)) + \n",
    "                append_bits(\"1\", generate_bit(n - 1)))\n",
    "                \n",
    "print(generate_bit(3))"
   ]
  },
  {
   "cell_type": "code",
   "execution_count": 18,
   "id": "393e1121",
   "metadata": {},
   "outputs": [
    {
     "name": "stdout",
     "output_type": "stream",
     "text": [
      "Enter the first string: elbow\n",
      "Enter the first string: below\n",
      "The entered strings are anagram\n"
     ]
    }
   ],
   "source": [
    "#Anagrams\n",
    "### Final Solution\n",
    "def anagram(str1,str2):\n",
    "    group_letters={}\n",
    "    for i in str1:\n",
    "        if i in group_letters:\n",
    "            group_letters[i]+=1\n",
    "        else:\n",
    "            group_letters[i]=1\n",
    "    for i in str2:\n",
    "        if i in group_letters:\n",
    "            group_letters[i]-=1\n",
    "        else:\n",
    "            group_letters[i]=1\n",
    "    for j in group_letters:\n",
    "        if group_letters[j]!=0:\n",
    "            return False\n",
    "    return True\n",
    "string1=input(\"Enter the first string: \")\n",
    "string1=string1.replace(\" \",\"\").lower()\n",
    "string2=input(\"Enter the first string: \")\n",
    "string2=string2.replace(\" \",\"\").lower()\n",
    "var=anagram(string1,string2)\n",
    "if(var):\n",
    "    print(\"The entered strings are anagram\")\n",
    "else:\n",
    "    print(\"The entered strings are not anagram\")"
   ]
  },
  {
   "cell_type": "code",
   "execution_count": 8,
   "id": "a7261a38",
   "metadata": {},
   "outputs": [
    {
     "name": "stdout",
     "output_type": "stream",
     "text": [
      "3.5\n",
      "3.5\n"
     ]
    }
   ],
   "source": [
    "x = float(3.5)\n",
    "y = 3.5\n",
    "print(x)\n",
    "print(y)\n"
   ]
  },
  {
   "cell_type": "code",
   "execution_count": 9,
   "id": "98731439",
   "metadata": {},
   "outputs": [
    {
     "name": "stdout",
     "output_type": "stream",
     "text": [
      "[4, 20, 24, 28]\n"
     ]
    }
   ],
   "source": [
    "aList = [4, 8, 12, 16]\n",
    "aList[1:4] = [20, 24, 28]\n",
    "print(aList)"
   ]
  },
  {
   "cell_type": "code",
   "execution_count": 10,
   "id": "8db84005",
   "metadata": {},
   "outputs": [
    {
     "name": "stdout",
     "output_type": "stream",
     "text": [
      "2, 1, 0, -1, -2, -3, -4, "
     ]
    }
   ],
   "source": [
    "for num in range(2,-5,-1):\n",
    "    print(num, end=\", \")"
   ]
  },
  {
   "cell_type": "code",
   "execution_count": 11,
   "id": "481d865d",
   "metadata": {},
   "outputs": [
    {
     "name": "stdout",
     "output_type": "stream",
     "text": [
      "J, h, o, n, "
     ]
    }
   ],
   "source": [
    "for l in 'Jhon':\n",
    "    if l == 'o':\n",
    "          pass\n",
    "    print(l, end=\", \")"
   ]
  },
  {
   "cell_type": "code",
   "execution_count": 12,
   "id": "26bb821f",
   "metadata": {},
   "outputs": [
    {
     "name": "stdout",
     "output_type": "stream",
     "text": [
      "100\n"
     ]
    }
   ],
   "source": [
    "x= 0\n",
    "while (x < 100):\n",
    "    x+=2\n",
    "print(x)"
   ]
  },
  {
   "cell_type": "code",
   "execution_count": 17,
   "id": "cdf6a16f",
   "metadata": {},
   "outputs": [
    {
     "name": "stdout",
     "output_type": "stream",
     "text": [
      "True\n"
     ]
    }
   ],
   "source": [
    "a, b = -12, 7j\n",
    "if a+b:\n",
    "    print(\"True\")\n",
    "else:\n",
    "    print(\"False\")"
   ]
  },
  {
   "cell_type": "code",
   "execution_count": 18,
   "id": "0ceecaf2",
   "metadata": {},
   "outputs": [
    {
     "name": "stdout",
     "output_type": "stream",
     "text": [
      "2\n"
     ]
    }
   ],
   "source": [
    "x= 0\n",
    "\n",
    "b = -5\n",
    "if a > 0:\n",
    "    if b < 0: \n",
    "        x=x + 5\n",
    "    elif a > 5:\n",
    "        x=x + 4\n",
    "    else:\n",
    "        x=x + 3\n",
    "else:\n",
    "    x=x+ 2\n",
    "print(x)"
   ]
  },
  {
   "cell_type": "code",
   "execution_count": 20,
   "id": "cdf2ec27",
   "metadata": {},
   "outputs": [
    {
     "data": {
      "text/plain": [
       "-5"
      ]
     },
     "execution_count": 20,
     "metadata": {},
     "output_type": "execute_result"
    }
   ],
   "source": [
    "~4"
   ]
  },
  {
   "cell_type": "code",
   "execution_count": 21,
   "id": "eb7e41a8",
   "metadata": {},
   "outputs": [
    {
     "data": {
      "text/plain": [
       "6"
      ]
     },
     "execution_count": 21,
     "metadata": {},
     "output_type": "execute_result"
    }
   ],
   "source": [
    "4^2"
   ]
  },
  {
   "cell_type": "code",
   "execution_count": 22,
   "id": "c6f88a36",
   "metadata": {},
   "outputs": [
    {
     "data": {
      "text/plain": [
       "16"
      ]
     },
     "execution_count": 22,
     "metadata": {},
     "output_type": "execute_result"
    }
   ],
   "source": [
    "4**2"
   ]
  },
  {
   "cell_type": "code",
   "execution_count": 26,
   "id": "6098535d",
   "metadata": {},
   "outputs": [
    {
     "data": {
      "text/plain": [
       "1"
      ]
     },
     "execution_count": 26,
     "metadata": {},
     "output_type": "execute_result"
    }
   ],
   "source": [
    "_a=1\n",
    "_a"
   ]
  },
  {
   "cell_type": "code",
   "execution_count": 27,
   "id": "90542f93",
   "metadata": {},
   "outputs": [
    {
     "ename": "SyntaxError",
     "evalue": "cannot assign to operator (1316653056.py, line 1)",
     "output_type": "error",
     "traceback": [
      "\u001b[0;36m  File \u001b[0;32m\"/var/folders/9_/783k5vx54c14n0znn5_gqsd00000gn/T/ipykernel_91557/1316653056.py\"\u001b[0;36m, line \u001b[0;32m1\u001b[0m\n\u001b[0;31m    my-var=9\u001b[0m\n\u001b[0m    ^\u001b[0m\n\u001b[0;31mSyntaxError\u001b[0m\u001b[0;31m:\u001b[0m cannot assign to operator\n"
     ]
    }
   ],
   "source": [
    "my-var=9\n",
    "my-var"
   ]
  },
  {
   "cell_type": "code",
   "execution_count": 31,
   "id": "7938100a",
   "metadata": {},
   "outputs": [
    {
     "ename": "NameError",
     "evalue": "name 'c' is not defined",
     "output_type": "error",
     "traceback": [
      "\u001b[0;31m---------------------------------------------------------------------------\u001b[0m",
      "\u001b[0;31mNameError\u001b[0m                                 Traceback (most recent call last)",
      "\u001b[0;32m/var/folders/9_/783k5vx54c14n0znn5_gqsd00000gn/T/ipykernel_91557/2626109609.py\u001b[0m in \u001b[0;36m<module>\u001b[0;34m\u001b[0m\n\u001b[1;32m      1\u001b[0m \u001b[0mabc\u001b[0m \u001b[0;34m=\u001b[0m \u001b[0;36m1\u001b[0m\u001b[0;34m,\u001b[0m\u001b[0;36m000\u001b[0m\u001b[0;34m,\u001b[0m\u001b[0;36m000\u001b[0m\u001b[0;34m\u001b[0m\u001b[0;34m\u001b[0m\u001b[0m\n\u001b[0;32m----> 2\u001b[0;31m \u001b[0mc\u001b[0m\u001b[0;34m\u001b[0m\u001b[0;34m\u001b[0m\u001b[0m\n\u001b[0m",
      "\u001b[0;31mNameError\u001b[0m: name 'c' is not defined"
     ]
    }
   ],
   "source": [
    "abc = 1,000,000\n",
    "c"
   ]
  },
  {
   "cell_type": "code",
   "execution_count": 32,
   "id": "1b80e34d",
   "metadata": {},
   "outputs": [
    {
     "name": "stdout",
     "output_type": "stream",
     "text": [
      "pqrts\n"
     ]
    }
   ],
   "source": [
    "print ('pqrts'.replace('rs', 'st'))"
   ]
  },
  {
   "cell_type": "code",
   "execution_count": 33,
   "id": "beab6acb",
   "metadata": {},
   "outputs": [
    {
     "name": "stdout",
     "output_type": "stream",
     "text": [
      "0.667\n"
     ]
    }
   ],
   "source": [
    "print ('{0:.3}'.format(2.0 / 3))"
   ]
  },
  {
   "cell_type": "code",
   "execution_count": 34,
   "id": "ed9da772",
   "metadata": {},
   "outputs": [
    {
     "data": {
      "text/plain": [
       "'D'"
      ]
     },
     "execution_count": 34,
     "metadata": {},
     "output_type": "execute_result"
    }
   ],
   "source": [
    "chr(ord('D'))"
   ]
  },
  {
   "cell_type": "code",
   "execution_count": 35,
   "id": "dbaaf1fa",
   "metadata": {},
   "outputs": [
    {
     "name": "stdout",
     "output_type": "stream",
     "text": [
      "5\n"
     ]
    }
   ],
   "source": [
    "print(11//2)"
   ]
  },
  {
   "cell_type": "code",
   "execution_count": 36,
   "id": "5dfaeafd",
   "metadata": {},
   "outputs": [
    {
     "data": {
      "text/plain": [
       "2"
      ]
     },
     "execution_count": 36,
     "metadata": {},
     "output_type": "execute_result"
    }
   ],
   "source": [
    "~~~~~~2"
   ]
  },
  {
   "cell_type": "code",
   "execution_count": 37,
   "id": "66e36bea",
   "metadata": {},
   "outputs": [
    {
     "name": "stdout",
     "output_type": "stream",
     "text": [
      "kcuL dooG\n"
     ]
    }
   ],
   "source": [
    "print (\"Good Luck\"[::-1])"
   ]
  },
  {
   "cell_type": "code",
   "execution_count": 38,
   "id": "58db79d6",
   "metadata": {},
   "outputs": [
    {
     "name": "stdout",
     "output_type": "stream",
     "text": [
      "[1, 3, 5]\n"
     ]
    }
   ],
   "source": [
    "foo = [1,2,3,4,5,6]\n",
    "\n",
    "print(foo[::2])"
   ]
  },
  {
   "cell_type": "code",
   "execution_count": 39,
   "id": "8c801f5e",
   "metadata": {},
   "outputs": [
    {
     "ename": "KeyError",
     "evalue": "8",
     "output_type": "error",
     "traceback": [
      "\u001b[0;31m---------------------------------------------------------------------------\u001b[0m",
      "\u001b[0;31mKeyError\u001b[0m                                  Traceback (most recent call last)",
      "\u001b[0;32m/var/folders/9_/783k5vx54c14n0znn5_gqsd00000gn/T/ipykernel_91557/3869545804.py\u001b[0m in \u001b[0;36m<module>\u001b[0;34m\u001b[0m\n\u001b[1;32m      1\u001b[0m \u001b[0ma\u001b[0m \u001b[0;34m=\u001b[0m \u001b[0;34m{\u001b[0m\u001b[0;36m1\u001b[0m\u001b[0;34m,\u001b[0m\u001b[0;36m2\u001b[0m\u001b[0;34m,\u001b[0m\u001b[0;36m3\u001b[0m\u001b[0;34m,\u001b[0m\u001b[0;36m4\u001b[0m\u001b[0;34m}\u001b[0m\u001b[0;34m\u001b[0m\u001b[0;34m\u001b[0m\u001b[0m\n\u001b[0;32m----> 2\u001b[0;31m \u001b[0ma\u001b[0m\u001b[0;34m.\u001b[0m\u001b[0mremove\u001b[0m\u001b[0;34m(\u001b[0m\u001b[0;36m8\u001b[0m\u001b[0;34m)\u001b[0m\u001b[0;34m\u001b[0m\u001b[0;34m\u001b[0m\u001b[0m\n\u001b[0m",
      "\u001b[0;31mKeyError\u001b[0m: 8"
     ]
    }
   ],
   "source": [
    "a = {1,2,3,4}\n",
    "a.remove(8)"
   ]
  },
  {
   "cell_type": "code",
   "execution_count": 40,
   "id": "893ae853",
   "metadata": {},
   "outputs": [
    {
     "name": "stdout",
     "output_type": "stream",
     "text": [
      "10\n"
     ]
    }
   ],
   "source": [
    "l = [None] * 10\n",
    "print(len(l))"
   ]
  },
  {
   "cell_type": "code",
   "execution_count": 41,
   "id": "f42cdd5d",
   "metadata": {},
   "outputs": [
    {
     "name": "stdout",
     "output_type": "stream",
     "text": [
      "['ab', 'cd']\n"
     ]
    }
   ],
   "source": [
    "x = ['ab', 'cd']\n",
    "for i in x:\n",
    "    i.upper()\n",
    "print(x)"
   ]
  },
  {
   "cell_type": "code",
   "execution_count": 42,
   "id": "576681c2",
   "metadata": {},
   "outputs": [
    {
     "name": "stdout",
     "output_type": "stream",
     "text": [
      "abc\\\\def\\nghi\n"
     ]
    }
   ],
   "source": [
    "print(r'abc\\\\def\\nghi')"
   ]
  },
  {
   "cell_type": "code",
   "execution_count": 43,
   "id": "9a7c69f6",
   "metadata": {},
   "outputs": [
    {
     "name": "stdout",
     "output_type": "stream",
     "text": [
      "In fun A 100 200 300 40\n",
      "In fun B 1000 2000 300 40\n",
      "In fun C 10000 2000 300 40\n",
      "In __main__ 10 20 30 40\n"
     ]
    }
   ],
   "source": [
    "#! /usr/bin/python3\t\t\t\n",
    "a, b, c, d = 10, 20, 30, 40   \t#scopex.py\n",
    "def funA():  \n",
    "    a, b, c=100, 200, 300\t\t\t\n",
    "    print(\"In fun A\", a, b, c, d)\t \t\n",
    "    def funB():\n",
    "      a, b=1000, 2000\t\t\t\t\n",
    "      print(\"In fun B\", a, b, c, d)\t\t\n",
    "      def funC():\n",
    "         a=10000\t\t\n",
    "         print(\"In fun C\", a, b, c, d)\t\t\n",
    "      funC()\t\t\n",
    "    funB()\n",
    "      \n",
    "funA()\t\t\n",
    "print(\"In __main__\",a,b,c,d)\t\t\n",
    "\n"
   ]
  },
  {
   "cell_type": "code",
   "execution_count": 44,
   "id": "5e0bfb7a",
   "metadata": {},
   "outputs": [
    {
     "name": "stdout",
     "output_type": "stream",
     "text": [
      "b in funC\n"
     ]
    }
   ],
   "source": [
    "def max(a,b):\t\t\t\t#scopefun.py\n",
    "\tif a > b:\n",
    "\t\treturn \"a in global\"\n",
    "\treturn \"b in global\"\t\t\t\t\t\t \n",
    "def funA(a,b):\n",
    "\tdef max(a,b):\n",
    "\t\tif a > b:\n",
    "\t\t\treturn \"a in funA\"\n",
    "\t\treturn \"b in funA\"\t\t\t\t\t \n",
    "\tdef funB(a,b):\n",
    "\t\tdef max(a,b):\n",
    "\t\t\tif a > b:\n",
    "\t\t\t\treturn \"a in funB\"\n",
    "\t\t\treturn \"b in funB\"\t\t\t\t \n",
    "\t\tdef funC(a,b):\n",
    "\t\t\t#Local\n",
    "\t\t\tdef max(a,b):\n",
    "\t\t\t\tif a > b:\n",
    "\t\t\t\t\treturn \"a in funC\"\t\t\t\n",
    "\t\t\t\treturn \"b in funC\"\n",
    "\t\t\tprint(max(a,b))\n",
    "\t\tfunC(a,b)\t\n",
    "\tfunB(a,b)\n",
    "funA(10,20)"
   ]
  },
  {
   "cell_type": "code",
   "execution_count": null,
   "id": "7d6212d0",
   "metadata": {},
   "outputs": [],
   "source": []
  }
 ],
 "metadata": {
  "kernelspec": {
   "display_name": "Python 3 (ipykernel)",
   "language": "python",
   "name": "python3"
  },
  "language_info": {
   "codemirror_mode": {
    "name": "ipython",
    "version": 3
   },
   "file_extension": ".py",
   "mimetype": "text/x-python",
   "name": "python",
   "nbconvert_exporter": "python",
   "pygments_lexer": "ipython3",
   "version": "3.9.7"
  }
 },
 "nbformat": 4,
 "nbformat_minor": 5
}
